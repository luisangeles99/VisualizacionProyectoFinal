{
  "cells": [
    {
      "cell_type": "code",
      "execution_count": 4,
      "metadata": {
        "id": "6nJiKbnn3MHd"
      },
      "outputs": [],
      "source": [
        "import pandas as pd \n",
        "import matplotlib.pyplot as plt\n",
        "import seaborn as sns\n",
        "import calendar"
      ]
    },
    {
      "cell_type": "code",
      "execution_count": 5,
      "metadata": {
        "colab": {
          "base_uri": "https://localhost:8080/",
          "height": 426
        },
        "id": "VpaFfx1d3vgc",
        "outputId": "39e21628-2508-4867-e488-0e7281f6b760"
      },
      "outputs": [
        {
          "data": {
            "text/html": [
              "<div>\n",
              "<style scoped>\n",
              "    .dataframe tbody tr th:only-of-type {\n",
              "        vertical-align: middle;\n",
              "    }\n",
              "\n",
              "    .dataframe tbody tr th {\n",
              "        vertical-align: top;\n",
              "    }\n",
              "\n",
              "    .dataframe thead th {\n",
              "        text-align: right;\n",
              "    }\n",
              "</style>\n",
              "<table border=\"1\" class=\"dataframe\">\n",
              "  <thead>\n",
              "    <tr style=\"text-align: right;\">\n",
              "      <th></th>\n",
              "      <th>Page total likes</th>\n",
              "      <th>Type</th>\n",
              "      <th>Category</th>\n",
              "      <th>Post Month</th>\n",
              "      <th>Post Weekday</th>\n",
              "      <th>Post Hour</th>\n",
              "      <th>Paid</th>\n",
              "      <th>Lifetime Post Total Reach</th>\n",
              "      <th>Lifetime Post Total Impressions</th>\n",
              "      <th>Lifetime Engaged Users</th>\n",
              "      <th>Lifetime Post Consumers</th>\n",
              "      <th>Lifetime Post Consumptions</th>\n",
              "      <th>Lifetime Post Impressions by people who have liked your Page</th>\n",
              "      <th>Lifetime Post reach by people who like your Page</th>\n",
              "      <th>Lifetime People who have liked your Page and engaged with your post</th>\n",
              "      <th>comment</th>\n",
              "      <th>like</th>\n",
              "      <th>share</th>\n",
              "      <th>Total Interactions</th>\n",
              "    </tr>\n",
              "  </thead>\n",
              "  <tbody>\n",
              "    <tr>\n",
              "      <th>0</th>\n",
              "      <td>139441</td>\n",
              "      <td>Photo</td>\n",
              "      <td>2</td>\n",
              "      <td>12</td>\n",
              "      <td>4</td>\n",
              "      <td>3</td>\n",
              "      <td>0.0</td>\n",
              "      <td>2752</td>\n",
              "      <td>5091</td>\n",
              "      <td>178</td>\n",
              "      <td>109</td>\n",
              "      <td>159</td>\n",
              "      <td>3078</td>\n",
              "      <td>1640</td>\n",
              "      <td>119</td>\n",
              "      <td>4</td>\n",
              "      <td>79.0</td>\n",
              "      <td>17.0</td>\n",
              "      <td>100</td>\n",
              "    </tr>\n",
              "    <tr>\n",
              "      <th>1</th>\n",
              "      <td>139441</td>\n",
              "      <td>Status</td>\n",
              "      <td>2</td>\n",
              "      <td>12</td>\n",
              "      <td>3</td>\n",
              "      <td>10</td>\n",
              "      <td>0.0</td>\n",
              "      <td>10460</td>\n",
              "      <td>19057</td>\n",
              "      <td>1457</td>\n",
              "      <td>1361</td>\n",
              "      <td>1674</td>\n",
              "      <td>11710</td>\n",
              "      <td>6112</td>\n",
              "      <td>1108</td>\n",
              "      <td>5</td>\n",
              "      <td>130.0</td>\n",
              "      <td>29.0</td>\n",
              "      <td>164</td>\n",
              "    </tr>\n",
              "    <tr>\n",
              "      <th>2</th>\n",
              "      <td>139441</td>\n",
              "      <td>Photo</td>\n",
              "      <td>3</td>\n",
              "      <td>12</td>\n",
              "      <td>3</td>\n",
              "      <td>3</td>\n",
              "      <td>0.0</td>\n",
              "      <td>2413</td>\n",
              "      <td>4373</td>\n",
              "      <td>177</td>\n",
              "      <td>113</td>\n",
              "      <td>154</td>\n",
              "      <td>2812</td>\n",
              "      <td>1503</td>\n",
              "      <td>132</td>\n",
              "      <td>0</td>\n",
              "      <td>66.0</td>\n",
              "      <td>14.0</td>\n",
              "      <td>80</td>\n",
              "    </tr>\n",
              "    <tr>\n",
              "      <th>3</th>\n",
              "      <td>139441</td>\n",
              "      <td>Photo</td>\n",
              "      <td>2</td>\n",
              "      <td>12</td>\n",
              "      <td>2</td>\n",
              "      <td>10</td>\n",
              "      <td>1.0</td>\n",
              "      <td>50128</td>\n",
              "      <td>87991</td>\n",
              "      <td>2211</td>\n",
              "      <td>790</td>\n",
              "      <td>1119</td>\n",
              "      <td>61027</td>\n",
              "      <td>32048</td>\n",
              "      <td>1386</td>\n",
              "      <td>58</td>\n",
              "      <td>1572.0</td>\n",
              "      <td>147.0</td>\n",
              "      <td>1777</td>\n",
              "    </tr>\n",
              "    <tr>\n",
              "      <th>4</th>\n",
              "      <td>139441</td>\n",
              "      <td>Photo</td>\n",
              "      <td>2</td>\n",
              "      <td>12</td>\n",
              "      <td>2</td>\n",
              "      <td>3</td>\n",
              "      <td>0.0</td>\n",
              "      <td>7244</td>\n",
              "      <td>13594</td>\n",
              "      <td>671</td>\n",
              "      <td>410</td>\n",
              "      <td>580</td>\n",
              "      <td>6228</td>\n",
              "      <td>3200</td>\n",
              "      <td>396</td>\n",
              "      <td>19</td>\n",
              "      <td>325.0</td>\n",
              "      <td>49.0</td>\n",
              "      <td>393</td>\n",
              "    </tr>\n",
              "  </tbody>\n",
              "</table>\n",
              "</div>"
            ],
            "text/plain": [
              "   Page total likes    Type  Category  Post Month  Post Weekday  Post Hour  \\\n",
              "0            139441   Photo         2          12             4          3   \n",
              "1            139441  Status         2          12             3         10   \n",
              "2            139441   Photo         3          12             3          3   \n",
              "3            139441   Photo         2          12             2         10   \n",
              "4            139441   Photo         2          12             2          3   \n",
              "\n",
              "   Paid  Lifetime Post Total Reach  Lifetime Post Total Impressions  \\\n",
              "0   0.0                       2752                             5091   \n",
              "1   0.0                      10460                            19057   \n",
              "2   0.0                       2413                             4373   \n",
              "3   1.0                      50128                            87991   \n",
              "4   0.0                       7244                            13594   \n",
              "\n",
              "   Lifetime Engaged Users  Lifetime Post Consumers  \\\n",
              "0                     178                      109   \n",
              "1                    1457                     1361   \n",
              "2                     177                      113   \n",
              "3                    2211                      790   \n",
              "4                     671                      410   \n",
              "\n",
              "   Lifetime Post Consumptions  \\\n",
              "0                         159   \n",
              "1                        1674   \n",
              "2                         154   \n",
              "3                        1119   \n",
              "4                         580   \n",
              "\n",
              "   Lifetime Post Impressions by people who have liked your Page  \\\n",
              "0                                               3078              \n",
              "1                                              11710              \n",
              "2                                               2812              \n",
              "3                                              61027              \n",
              "4                                               6228              \n",
              "\n",
              "   Lifetime Post reach by people who like your Page  \\\n",
              "0                                              1640   \n",
              "1                                              6112   \n",
              "2                                              1503   \n",
              "3                                             32048   \n",
              "4                                              3200   \n",
              "\n",
              "   Lifetime People who have liked your Page and engaged with your post  \\\n",
              "0                                                119                     \n",
              "1                                               1108                     \n",
              "2                                                132                     \n",
              "3                                               1386                     \n",
              "4                                                396                     \n",
              "\n",
              "   comment    like  share  Total Interactions  \n",
              "0        4    79.0   17.0                 100  \n",
              "1        5   130.0   29.0                 164  \n",
              "2        0    66.0   14.0                  80  \n",
              "3       58  1572.0  147.0                1777  \n",
              "4       19   325.0   49.0                 393  "
            ]
          },
          "execution_count": 5,
          "metadata": {},
          "output_type": "execute_result"
        }
      ],
      "source": [
        "df = pd.read_csv(\"dataset_Facebook.csv\",encoding = 'utf8',sep=\";\")\n",
        "df.head()"
      ]
    },
    {
      "cell_type": "code",
      "execution_count": 6,
      "metadata": {
        "colab": {
          "base_uri": "https://localhost:8080/"
        },
        "id": "0B7XShey3-3Z",
        "outputId": "09454abe-aa95-4fe7-d888-8b6191778e5d"
      },
      "outputs": [
        {
          "data": {
            "text/plain": [
              "Page total likes                                                         int64\n",
              "Type                                                                    object\n",
              "Category                                                                 int64\n",
              "Post Month                                                               int64\n",
              "Post Weekday                                                             int64\n",
              "Post Hour                                                                int64\n",
              "Paid                                                                   float64\n",
              "Lifetime Post Total Reach                                                int64\n",
              "Lifetime Post Total Impressions                                          int64\n",
              "Lifetime Engaged Users                                                   int64\n",
              "Lifetime Post Consumers                                                  int64\n",
              "Lifetime Post Consumptions                                               int64\n",
              "Lifetime Post Impressions by people who have liked your Page             int64\n",
              "Lifetime Post reach by people who like your Page                         int64\n",
              "Lifetime People who have liked your Page and engaged with your post      int64\n",
              "comment                                                                  int64\n",
              "like                                                                   float64\n",
              "share                                                                  float64\n",
              "Total Interactions                                                       int64\n",
              "dtype: object"
            ]
          },
          "execution_count": 6,
          "metadata": {},
          "output_type": "execute_result"
        }
      ],
      "source": [
        "df.dtypes"
      ]
    },
    {
      "cell_type": "code",
      "execution_count": 7,
      "metadata": {},
      "outputs": [
        {
          "name": "stdout",
          "output_type": "stream",
          "text": [
            "<class 'pandas.core.frame.DataFrame'>\n",
            "RangeIndex: 500 entries, 0 to 499\n",
            "Data columns (total 19 columns):\n",
            " #   Column                                                               Non-Null Count  Dtype  \n",
            "---  ------                                                               --------------  -----  \n",
            " 0   Page total likes                                                     500 non-null    int64  \n",
            " 1   Type                                                                 500 non-null    object \n",
            " 2   Category                                                             500 non-null    int64  \n",
            " 3   Post Month                                                           500 non-null    int64  \n",
            " 4   Post Weekday                                                         500 non-null    int64  \n",
            " 5   Post Hour                                                            500 non-null    int64  \n",
            " 6   Paid                                                                 499 non-null    float64\n",
            " 7   Lifetime Post Total Reach                                            500 non-null    int64  \n",
            " 8   Lifetime Post Total Impressions                                      500 non-null    int64  \n",
            " 9   Lifetime Engaged Users                                               500 non-null    int64  \n",
            " 10  Lifetime Post Consumers                                              500 non-null    int64  \n",
            " 11  Lifetime Post Consumptions                                           500 non-null    int64  \n",
            " 12  Lifetime Post Impressions by people who have liked your Page         500 non-null    int64  \n",
            " 13  Lifetime Post reach by people who like your Page                     500 non-null    int64  \n",
            " 14  Lifetime People who have liked your Page and engaged with your post  500 non-null    int64  \n",
            " 15  comment                                                              500 non-null    int64  \n",
            " 16  like                                                                 499 non-null    float64\n",
            " 17  share                                                                496 non-null    float64\n",
            " 18  Total Interactions                                                   500 non-null    int64  \n",
            "dtypes: float64(3), int64(15), object(1)\n",
            "memory usage: 74.3+ KB\n"
          ]
        }
      ],
      "source": [
        "df.info()"
      ]
    },
    {
      "cell_type": "code",
      "execution_count": 8,
      "metadata": {
        "colab": {
          "base_uri": "https://localhost:8080/"
        },
        "id": "PE81-dc24t1N",
        "outputId": "8ac2122e-ecc1-4e0a-9845-386fff94cf14"
      },
      "outputs": [
        {
          "data": {
            "text/plain": [
              "array(['Photo', 'Status', 'Link', 'Video'], dtype=object)"
            ]
          },
          "execution_count": 8,
          "metadata": {},
          "output_type": "execute_result"
        }
      ],
      "source": [
        "#Type of content\n",
        "df.Type.unique()"
      ]
    },
    {
      "cell_type": "code",
      "execution_count": 9,
      "metadata": {
        "colab": {
          "base_uri": "https://localhost:8080/"
        },
        "id": "aOgOak245eJI",
        "outputId": "7f9b7f5a-6fab-4f6d-985b-f401dd218fc0"
      },
      "outputs": [
        {
          "data": {
            "text/plain": [
              "array([2, 3, 1])"
            ]
          },
          "execution_count": 9,
          "metadata": {},
          "output_type": "execute_result"
        }
      ],
      "source": [
        "#Manual content characterization: action (specifal offersand contents) , product (direct advertisment,\n",
        "#explicit brand content) and inspiration (non-explicit brand related)\n",
        "df.Category.unique()"
      ]
    },
    {
      "cell_type": "code",
      "execution_count": 10,
      "metadata": {
        "colab": {
          "base_uri": "https://localhost:8080/"
        },
        "id": "YGGy80CB5pTN",
        "outputId": "b55fd303-4c1f-4d75-8f3b-cde3841d58f0"
      },
      "outputs": [
        {
          "data": {
            "text/plain": [
              "array([12, 11, 10,  9,  8,  7,  6,  5,  4,  3,  2,  1])"
            ]
          },
          "execution_count": 10,
          "metadata": {},
          "output_type": "execute_result"
        }
      ],
      "source": [
        "df['Post Month'].unique()"
      ]
    },
    {
      "cell_type": "code",
      "execution_count": 11,
      "metadata": {
        "colab": {
          "base_uri": "https://localhost:8080/"
        },
        "id": "9Ut_9fBy5snF",
        "outputId": "20baa4d8-d8ce-4084-d69a-d729ef1040cf"
      },
      "outputs": [
        {
          "data": {
            "text/plain": [
              "array([4, 3, 2, 1, 7, 6, 5])"
            ]
          },
          "execution_count": 11,
          "metadata": {},
          "output_type": "execute_result"
        }
      ],
      "source": [
        "df['Post Weekday'].unique()"
      ]
    },
    {
      "cell_type": "code",
      "execution_count": 12,
      "metadata": {
        "colab": {
          "base_uri": "https://localhost:8080/"
        },
        "id": "sK2ynjEz5xLC",
        "outputId": "9405f878-f802-4214-e06b-ec321493bd13"
      },
      "outputs": [
        {
          "data": {
            "text/plain": [
              "array([ 3, 10,  9,  5, 12, 11,  2,  4,  8, 13,  7,  6,  1, 14, 23, 22, 15,\n",
              "       20, 19, 18, 17, 16])"
            ]
          },
          "execution_count": 12,
          "metadata": {},
          "output_type": "execute_result"
        }
      ],
      "source": [
        "df['Post Hour'].unique()"
      ]
    },
    {
      "cell_type": "code",
      "execution_count": 13,
      "metadata": {
        "colab": {
          "base_uri": "https://localhost:8080/"
        },
        "id": "cRAob4Zw5zBc",
        "outputId": "a74196dc-c237-4c83-e635-8c9ea546cd85"
      },
      "outputs": [
        {
          "name": "stdout",
          "output_type": "stream",
          "text": [
            "[ 0.  1. nan]\n"
          ]
        }
      ],
      "source": [
        "#If the company paid to facebook for advertising (yes,no)\n",
        "print(df['Paid'].unique())"
      ]
    },
    {
      "cell_type": "code",
      "execution_count": 14,
      "metadata": {
        "colab": {
          "base_uri": "https://localhost:8080/",
          "height": 166
        },
        "id": "5m1s6eoidkNy",
        "outputId": "58cea77c-7db1-44bf-9312-88809f8f78b6"
      },
      "outputs": [
        {
          "data": {
            "text/html": [
              "<div>\n",
              "<style scoped>\n",
              "    .dataframe tbody tr th:only-of-type {\n",
              "        vertical-align: middle;\n",
              "    }\n",
              "\n",
              "    .dataframe tbody tr th {\n",
              "        vertical-align: top;\n",
              "    }\n",
              "\n",
              "    .dataframe thead th {\n",
              "        text-align: right;\n",
              "    }\n",
              "</style>\n",
              "<table border=\"1\" class=\"dataframe\">\n",
              "  <thead>\n",
              "    <tr style=\"text-align: right;\">\n",
              "      <th></th>\n",
              "      <th>Page total likes</th>\n",
              "      <th>Type</th>\n",
              "      <th>Category</th>\n",
              "      <th>Post Month</th>\n",
              "      <th>Post Weekday</th>\n",
              "      <th>Post Hour</th>\n",
              "      <th>Paid</th>\n",
              "      <th>Lifetime Post Total Reach</th>\n",
              "      <th>Lifetime Post Total Impressions</th>\n",
              "      <th>Lifetime Engaged Users</th>\n",
              "      <th>...</th>\n",
              "      <th>Lifetime Post Impressions by people who have liked your Page</th>\n",
              "      <th>Lifetime Post reach by people who like your Page</th>\n",
              "      <th>Lifetime People who have liked your Page and engaged with your post</th>\n",
              "      <th>comment</th>\n",
              "      <th>like</th>\n",
              "      <th>share</th>\n",
              "      <th>Total Interactions</th>\n",
              "      <th>Month</th>\n",
              "      <th>Day</th>\n",
              "      <th>CategoryType</th>\n",
              "    </tr>\n",
              "  </thead>\n",
              "  <tbody>\n",
              "    <tr>\n",
              "      <th>0</th>\n",
              "      <td>139441</td>\n",
              "      <td>Photo</td>\n",
              "      <td>2</td>\n",
              "      <td>12</td>\n",
              "      <td>4</td>\n",
              "      <td>3</td>\n",
              "      <td>0.0</td>\n",
              "      <td>2752</td>\n",
              "      <td>5091</td>\n",
              "      <td>178</td>\n",
              "      <td>...</td>\n",
              "      <td>3078</td>\n",
              "      <td>1640</td>\n",
              "      <td>119</td>\n",
              "      <td>4</td>\n",
              "      <td>79.0</td>\n",
              "      <td>17.0</td>\n",
              "      <td>100</td>\n",
              "      <td>Dec</td>\n",
              "      <td>Thu</td>\n",
              "      <td>Product</td>\n",
              "    </tr>\n",
              "    <tr>\n",
              "      <th>1</th>\n",
              "      <td>139441</td>\n",
              "      <td>Status</td>\n",
              "      <td>2</td>\n",
              "      <td>12</td>\n",
              "      <td>3</td>\n",
              "      <td>10</td>\n",
              "      <td>0.0</td>\n",
              "      <td>10460</td>\n",
              "      <td>19057</td>\n",
              "      <td>1457</td>\n",
              "      <td>...</td>\n",
              "      <td>11710</td>\n",
              "      <td>6112</td>\n",
              "      <td>1108</td>\n",
              "      <td>5</td>\n",
              "      <td>130.0</td>\n",
              "      <td>29.0</td>\n",
              "      <td>164</td>\n",
              "      <td>Dec</td>\n",
              "      <td>Wed</td>\n",
              "      <td>Product</td>\n",
              "    </tr>\n",
              "    <tr>\n",
              "      <th>2</th>\n",
              "      <td>139441</td>\n",
              "      <td>Photo</td>\n",
              "      <td>3</td>\n",
              "      <td>12</td>\n",
              "      <td>3</td>\n",
              "      <td>3</td>\n",
              "      <td>0.0</td>\n",
              "      <td>2413</td>\n",
              "      <td>4373</td>\n",
              "      <td>177</td>\n",
              "      <td>...</td>\n",
              "      <td>2812</td>\n",
              "      <td>1503</td>\n",
              "      <td>132</td>\n",
              "      <td>0</td>\n",
              "      <td>66.0</td>\n",
              "      <td>14.0</td>\n",
              "      <td>80</td>\n",
              "      <td>Dec</td>\n",
              "      <td>Wed</td>\n",
              "      <td>Inspiration</td>\n",
              "    </tr>\n",
              "    <tr>\n",
              "      <th>3</th>\n",
              "      <td>139441</td>\n",
              "      <td>Photo</td>\n",
              "      <td>2</td>\n",
              "      <td>12</td>\n",
              "      <td>2</td>\n",
              "      <td>10</td>\n",
              "      <td>1.0</td>\n",
              "      <td>50128</td>\n",
              "      <td>87991</td>\n",
              "      <td>2211</td>\n",
              "      <td>...</td>\n",
              "      <td>61027</td>\n",
              "      <td>32048</td>\n",
              "      <td>1386</td>\n",
              "      <td>58</td>\n",
              "      <td>1572.0</td>\n",
              "      <td>147.0</td>\n",
              "      <td>1777</td>\n",
              "      <td>Dec</td>\n",
              "      <td>Tue</td>\n",
              "      <td>Product</td>\n",
              "    </tr>\n",
              "    <tr>\n",
              "      <th>4</th>\n",
              "      <td>139441</td>\n",
              "      <td>Photo</td>\n",
              "      <td>2</td>\n",
              "      <td>12</td>\n",
              "      <td>2</td>\n",
              "      <td>3</td>\n",
              "      <td>0.0</td>\n",
              "      <td>7244</td>\n",
              "      <td>13594</td>\n",
              "      <td>671</td>\n",
              "      <td>...</td>\n",
              "      <td>6228</td>\n",
              "      <td>3200</td>\n",
              "      <td>396</td>\n",
              "      <td>19</td>\n",
              "      <td>325.0</td>\n",
              "      <td>49.0</td>\n",
              "      <td>393</td>\n",
              "      <td>Dec</td>\n",
              "      <td>Tue</td>\n",
              "      <td>Product</td>\n",
              "    </tr>\n",
              "  </tbody>\n",
              "</table>\n",
              "<p>5 rows × 22 columns</p>\n",
              "</div>"
            ],
            "text/plain": [
              "   Page total likes    Type  Category  Post Month  Post Weekday  Post Hour  \\\n",
              "0            139441   Photo         2          12             4          3   \n",
              "1            139441  Status         2          12             3         10   \n",
              "2            139441   Photo         3          12             3          3   \n",
              "3            139441   Photo         2          12             2         10   \n",
              "4            139441   Photo         2          12             2          3   \n",
              "\n",
              "   Paid  Lifetime Post Total Reach  Lifetime Post Total Impressions  \\\n",
              "0   0.0                       2752                             5091   \n",
              "1   0.0                      10460                            19057   \n",
              "2   0.0                       2413                             4373   \n",
              "3   1.0                      50128                            87991   \n",
              "4   0.0                       7244                            13594   \n",
              "\n",
              "   Lifetime Engaged Users  ...  \\\n",
              "0                     178  ...   \n",
              "1                    1457  ...   \n",
              "2                     177  ...   \n",
              "3                    2211  ...   \n",
              "4                     671  ...   \n",
              "\n",
              "   Lifetime Post Impressions by people who have liked your Page  \\\n",
              "0                                               3078              \n",
              "1                                              11710              \n",
              "2                                               2812              \n",
              "3                                              61027              \n",
              "4                                               6228              \n",
              "\n",
              "   Lifetime Post reach by people who like your Page  \\\n",
              "0                                              1640   \n",
              "1                                              6112   \n",
              "2                                              1503   \n",
              "3                                             32048   \n",
              "4                                              3200   \n",
              "\n",
              "   Lifetime People who have liked your Page and engaged with your post  \\\n",
              "0                                                119                     \n",
              "1                                               1108                     \n",
              "2                                                132                     \n",
              "3                                               1386                     \n",
              "4                                                396                     \n",
              "\n",
              "   comment    like  share  Total Interactions  Month  Day CategoryType  \n",
              "0        4    79.0   17.0                 100    Dec  Thu      Product  \n",
              "1        5   130.0   29.0                 164    Dec  Wed      Product  \n",
              "2        0    66.0   14.0                  80    Dec  Wed  Inspiration  \n",
              "3       58  1572.0  147.0                1777    Dec  Tue      Product  \n",
              "4       19   325.0   49.0                 393    Dec  Tue      Product  \n",
              "\n",
              "[5 rows x 22 columns]"
            ]
          },
          "execution_count": 14,
          "metadata": {},
          "output_type": "execute_result"
        }
      ],
      "source": [
        "#add relevant columns for dates and categories \n",
        "df['Month'] = df['Post Month'].apply(lambda x: calendar.month_abbr[x])\n",
        "df['Day'] = df['Post Weekday'].apply(lambda x: calendar.day_abbr[x - 1])\n",
        "\n",
        "catType = {\n",
        "    '1': 'Manual action',\n",
        "    '2': 'Product',\n",
        "    '3': 'Inspiration'\n",
        "}\n",
        "\n",
        "df['CategoryType']  = df.Category.apply(lambda x: catType[str(x)])\n",
        "\n",
        "#Remove nan\n",
        "df.like = df.like.fillna(0)\n",
        "df.share = df.share.fillna(0)\n",
        "df.Paid = df.Paid.fillna(0)\n",
        "\n",
        "df.head(5)\n"
      ]
    },
    {
      "cell_type": "code",
      "execution_count": 15,
      "metadata": {},
      "outputs": [
        {
          "name": "stdout",
          "output_type": "stream",
          "text": [
            "<class 'pandas.core.frame.DataFrame'>\n",
            "RangeIndex: 500 entries, 0 to 499\n",
            "Data columns (total 22 columns):\n",
            " #   Column                                                               Non-Null Count  Dtype  \n",
            "---  ------                                                               --------------  -----  \n",
            " 0   Page total likes                                                     500 non-null    int64  \n",
            " 1   Type                                                                 500 non-null    object \n",
            " 2   Category                                                             500 non-null    int64  \n",
            " 3   Post Month                                                           500 non-null    int64  \n",
            " 4   Post Weekday                                                         500 non-null    int64  \n",
            " 5   Post Hour                                                            500 non-null    int64  \n",
            " 6   Paid                                                                 500 non-null    float64\n",
            " 7   Lifetime Post Total Reach                                            500 non-null    int64  \n",
            " 8   Lifetime Post Total Impressions                                      500 non-null    int64  \n",
            " 9   Lifetime Engaged Users                                               500 non-null    int64  \n",
            " 10  Lifetime Post Consumers                                              500 non-null    int64  \n",
            " 11  Lifetime Post Consumptions                                           500 non-null    int64  \n",
            " 12  Lifetime Post Impressions by people who have liked your Page         500 non-null    int64  \n",
            " 13  Lifetime Post reach by people who like your Page                     500 non-null    int64  \n",
            " 14  Lifetime People who have liked your Page and engaged with your post  500 non-null    int64  \n",
            " 15  comment                                                              500 non-null    int64  \n",
            " 16  like                                                                 500 non-null    float64\n",
            " 17  share                                                                500 non-null    float64\n",
            " 18  Total Interactions                                                   500 non-null    int64  \n",
            " 19  Month                                                                500 non-null    object \n",
            " 20  Day                                                                  500 non-null    object \n",
            " 21  CategoryType                                                         500 non-null    object \n",
            "dtypes: float64(3), int64(15), object(4)\n",
            "memory usage: 86.1+ KB\n"
          ]
        }
      ],
      "source": [
        "df.info()"
      ]
    },
    {
      "cell_type": "code",
      "execution_count": 16,
      "metadata": {
        "colab": {
          "base_uri": "https://localhost:8080/"
        },
        "id": "t0xoYZ1Ca8-r",
        "outputId": "97074043-7eec-482e-d13f-61a1b2fe16b4"
      },
      "outputs": [
        {
          "data": {
            "text/html": [
              "<div>\n",
              "<style scoped>\n",
              "    .dataframe tbody tr th:only-of-type {\n",
              "        vertical-align: middle;\n",
              "    }\n",
              "\n",
              "    .dataframe tbody tr th {\n",
              "        vertical-align: top;\n",
              "    }\n",
              "\n",
              "    .dataframe thead th {\n",
              "        text-align: right;\n",
              "    }\n",
              "</style>\n",
              "<table border=\"1\" class=\"dataframe\">\n",
              "  <thead>\n",
              "    <tr style=\"text-align: right;\">\n",
              "      <th></th>\n",
              "      <th>Post Month</th>\n",
              "      <th>Lifetime Engaged Users</th>\n",
              "      <th>Month</th>\n",
              "    </tr>\n",
              "  </thead>\n",
              "  <tbody>\n",
              "    <tr>\n",
              "      <th>0</th>\n",
              "      <td>1</td>\n",
              "      <td>25851</td>\n",
              "      <td>Jan</td>\n",
              "    </tr>\n",
              "    <tr>\n",
              "      <th>1</th>\n",
              "      <td>2</td>\n",
              "      <td>38375</td>\n",
              "      <td>Feb</td>\n",
              "    </tr>\n",
              "    <tr>\n",
              "      <th>2</th>\n",
              "      <td>3</td>\n",
              "      <td>35316</td>\n",
              "      <td>Mar</td>\n",
              "    </tr>\n",
              "    <tr>\n",
              "      <th>3</th>\n",
              "      <td>4</td>\n",
              "      <td>44197</td>\n",
              "      <td>Apr</td>\n",
              "    </tr>\n",
              "    <tr>\n",
              "      <th>4</th>\n",
              "      <td>5</td>\n",
              "      <td>31167</td>\n",
              "      <td>May</td>\n",
              "    </tr>\n",
              "    <tr>\n",
              "      <th>5</th>\n",
              "      <td>6</td>\n",
              "      <td>46944</td>\n",
              "      <td>Jun</td>\n",
              "    </tr>\n",
              "    <tr>\n",
              "      <th>6</th>\n",
              "      <td>7</td>\n",
              "      <td>59876</td>\n",
              "      <td>Jul</td>\n",
              "    </tr>\n",
              "    <tr>\n",
              "      <th>7</th>\n",
              "      <td>8</td>\n",
              "      <td>27769</td>\n",
              "      <td>Aug</td>\n",
              "    </tr>\n",
              "    <tr>\n",
              "      <th>8</th>\n",
              "      <td>9</td>\n",
              "      <td>32982</td>\n",
              "      <td>Sep</td>\n",
              "    </tr>\n",
              "    <tr>\n",
              "      <th>9</th>\n",
              "      <td>10</td>\n",
              "      <td>49518</td>\n",
              "      <td>Oct</td>\n",
              "    </tr>\n",
              "    <tr>\n",
              "      <th>10</th>\n",
              "      <td>11</td>\n",
              "      <td>24014</td>\n",
              "      <td>Nov</td>\n",
              "    </tr>\n",
              "    <tr>\n",
              "      <th>11</th>\n",
              "      <td>12</td>\n",
              "      <td>44163</td>\n",
              "      <td>Dec</td>\n",
              "    </tr>\n",
              "  </tbody>\n",
              "</table>\n",
              "</div>"
            ],
            "text/plain": [
              "    Post Month  Lifetime Engaged Users Month\n",
              "0            1                   25851   Jan\n",
              "1            2                   38375   Feb\n",
              "2            3                   35316   Mar\n",
              "3            4                   44197   Apr\n",
              "4            5                   31167   May\n",
              "5            6                   46944   Jun\n",
              "6            7                   59876   Jul\n",
              "7            8                   27769   Aug\n",
              "8            9                   32982   Sep\n",
              "9           10                   49518   Oct\n",
              "10          11                   24014   Nov\n",
              "11          12                   44163   Dec"
            ]
          },
          "execution_count": 16,
          "metadata": {},
          "output_type": "execute_result"
        }
      ],
      "source": [
        "\n",
        "dfByMonth = df.groupby(['Post Month'])['Lifetime Engaged Users'].sum().reset_index()\n",
        "dfByMonth['Month'] = dfByMonth['Post Month'].apply(lambda x: calendar.month_abbr[x])\n",
        "dfByMonth"
      ]
    },
    {
      "cell_type": "code",
      "execution_count": 17,
      "metadata": {
        "colab": {
          "base_uri": "https://localhost:8080/",
          "height": 297
        },
        "id": "Q0UDC9VOb3hF",
        "outputId": "a1bf9627-3582-4e5d-d25c-90118f9180e4"
      },
      "outputs": [
        {
          "data": {
            "text/plain": [
              "<AxesSubplot:xlabel='Post Month'>"
            ]
          },
          "execution_count": 17,
          "metadata": {},
          "output_type": "execute_result"
        },
        {
          "data": {
            "image/png": "[encoded data removed]",
            "text/plain": [
              "<Figure size 432x288 with 1 Axes>"
            ]
          },
          "metadata": {
            "needs_background": "light"
          },
          "output_type": "display_data"
        }
      ],
      "source": [
        "df.groupby(['Post Month'])['Lifetime Engaged Users'].sum().plot(linewidth = 4)"
      ]
    },
    {
      "cell_type": "code",
      "execution_count": 18,
      "metadata": {
        "colab": {
          "base_uri": "https://localhost:8080/",
          "height": 308
        },
        "id": "r9hOxKfhbGWo",
        "outputId": "c4277445-f359-437e-d418-e0e6ce96a6a9"
      },
      "outputs": [
        {
          "data": {
            "text/plain": [
              "<AxesSubplot:xlabel='Post Month'>"
            ]
          },
          "execution_count": 18,
          "metadata": {},
          "output_type": "execute_result"
        },
        {
          "data": {
            "image/png": "[encoded data removed]",
            "text/plain": [
              "<Figure size 432x288 with 1 Axes>"
            ]
          },
          "metadata": {
            "needs_background": "light"
          },
          "output_type": "display_data"
        }
      ],
      "source": [
        "df.groupby(['Post Month'])['Lifetime Post Total Impressions'].sum().plot(linewidth = 4)"
      ]
    },
    {
      "cell_type": "code",
      "execution_count": 19,
      "metadata": {
        "colab": {
          "base_uri": "https://localhost:8080/",
          "height": 308
        },
        "id": "J2DXTi-Hn_b4",
        "outputId": "4015896c-1c47-4f23-96eb-3663246ef89a"
      },
      "outputs": [
        {
          "data": {
            "text/plain": [
              "<AxesSubplot:xlabel='Post Month'>"
            ]
          },
          "execution_count": 19,
          "metadata": {},
          "output_type": "execute_result"
        },
        {
          "data": {
            "image/png": "[encoded data removed]",
            "text/plain": [
              "<Figure size 432x288 with 1 Axes>"
            ]
          },
          "metadata": {
            "needs_background": "light"
          },
          "output_type": "display_data"
        }
      ],
      "source": [
        "df.groupby(['Post Month'])['Lifetime Post Total Reach'].sum().plot(linewidth = 4)"
      ]
    },
    {
      "cell_type": "code",
      "execution_count": 20,
      "metadata": {
        "colab": {
          "base_uri": "https://localhost:8080/",
          "height": 308
        },
        "id": "9VAwnTP6oLie",
        "outputId": "48294bd4-03e3-4439-f960-ece764571e0f"
      },
      "outputs": [
        {
          "data": {
            "text/plain": [
              "<AxesSubplot:xlabel='Post Month'>"
            ]
          },
          "execution_count": 20,
          "metadata": {},
          "output_type": "execute_result"
        },
        {
          "data": {
            "image/png": "[encoded data removed]",
            "text/plain": [
              "<Figure size 432x288 with 1 Axes>"
            ]
          },
          "metadata": {
            "needs_background": "light"
          },
          "output_type": "display_data"
        }
      ],
      "source": [
        "df.groupby(['Post Month'])['Lifetime Post Impressions by people who have liked your Page'].sum().plot(linewidth = 4)"
      ]
    },
    {
      "cell_type": "code",
      "execution_count": 21,
      "metadata": {
        "colab": {
          "base_uri": "https://localhost:8080/",
          "height": 279
        },
        "id": "zVBBRm7Mobvw",
        "outputId": "6d6bb9d9-5640-4c83-b028-0eac44f15bc8"
      },
      "outputs": [
        {
          "data": {
            "image/png": "[encoded data removed]",
            "text/plain": [
              "<Figure size 432x288 with 1 Axes>"
            ]
          },
          "metadata": {
            "needs_background": "light"
          },
          "output_type": "display_data"
        }
      ],
      "source": [
        "df[df['Paid'] == 1].groupby(['Post Month'])['Lifetime Post Total Reach'].sum().plot(linewidth = 4)\n",
        "df[df['Paid'] == 0].groupby(['Post Month'])['Lifetime Post Total Reach'].sum().plot(linewidth = 4)\n",
        "\n",
        "plt.legend([\"Paid\", \"Did not paid\"], loc =\"upper right\")\n",
        "\n",
        "\n",
        "plt.xlabel('Post Month')\n",
        "plt.ylabel('Lifetime Post Total Reach')\n",
        "plt.show()"
      ]
    },
    {
      "cell_type": "code",
      "execution_count": 22,
      "metadata": {
        "colab": {
          "base_uri": "https://localhost:8080/",
          "height": 297
        },
        "id": "lH3hvG5UqxKT",
        "outputId": "e9291c1b-7f49-4bca-f4c7-3fdac4aed780"
      },
      "outputs": [
        {
          "data": {
            "text/plain": [
              "<AxesSubplot:xlabel='Type', ylabel='count'>"
            ]
          },
          "execution_count": 22,
          "metadata": {},
          "output_type": "execute_result"
        },
        {
          "data": {
            "image/png": "[encoded data removed]",
            "text/plain": [
              "<Figure size 432x288 with 1 Axes>"
            ]
          },
          "metadata": {
            "needs_background": "light"
          },
          "output_type": "display_data"
        }
      ],
      "source": [
        "sns.countplot(x=df[\"Type\"])"
      ]
    },
    {
      "cell_type": "code",
      "execution_count": 23,
      "metadata": {
        "colab": {
          "base_uri": "https://localhost:8080/",
          "height": 266
        },
        "id": "YMqiy94lryE_",
        "outputId": "3fb5f5ab-269b-4537-a6ab-8f959dcd6895"
      },
      "outputs": [
        {
          "data": {
            "text/plain": [
              "<AxesSubplot:ylabel='Type'>"
            ]
          },
          "execution_count": 23,
          "metadata": {},
          "output_type": "execute_result"
        },
        {
          "data": {
            "image/png": "[encoded data removed]",
            "text/plain": [
              "<Figure size 432x288 with 1 Axes>"
            ]
          },
          "metadata": {},
          "output_type": "display_data"
        }
      ],
      "source": [
        "df['Type'].value_counts().plot(kind='pie')\n"
      ]
    },
    {
      "cell_type": "code",
      "execution_count": 24,
      "metadata": {
        "colab": {
          "base_uri": "https://localhost:8080/",
          "height": 279
        },
        "id": "hfcKLbeCsODX",
        "outputId": "b7ee82f5-5ba7-4e66-e0e3-68ac67050b01"
      },
      "outputs": [
        {
          "data": {
            "image/png": "[encoded data removed]",
            "text/plain": [
              "<Figure size 432x288 with 1 Axes>"
            ]
          },
          "metadata": {
            "needs_background": "light"
          },
          "output_type": "display_data"
        }
      ],
      "source": [
        "df[df['Type'] == 'Photo'].groupby(['Post Month'])['Lifetime Post Total Reach'].sum().plot(linewidth = 4)\n",
        "df[df['Type'] == 'Status'].groupby(['Post Month'])['Lifetime Post Total Reach'].sum().plot(linewidth = 4)\n",
        "df[df['Type'] == 'Link'].groupby(['Post Month'])['Lifetime Post Total Reach'].sum().plot(linewidth = 4)\n",
        "df[df['Type'] == 'Video'].groupby(['Post Month'])['Lifetime Post Total Reach'].sum().plot(linewidth = 4)\n",
        "\n",
        "plt.legend([\"Photo\", \"Status\",\"Link\",\"Video\"], loc =\"upper right\")\n",
        "\n",
        "\n",
        "plt.xlabel('Post Month')\n",
        "plt.ylabel('Lifetime Post Total Reach')\n",
        "plt.show()"
      ]
    },
    {
      "cell_type": "code",
      "execution_count": 25,
      "metadata": {
        "id": "enasaJabsebp"
      },
      "outputs": [],
      "source": [
        "#Generar nuevo dataset \n",
        "df.to_csv('newFacebookDataset.csv')"
      ]
    },
    {
      "cell_type": "markdown",
      "metadata": {},
      "source": [
        "# Relevant graphs for study"
      ]
    },
    {
      "cell_type": "code",
      "execution_count": 26,
      "metadata": {},
      "outputs": [],
      "source": [
        "# Relevant graphs for study\n",
        "df = pd.read_csv('newFacebookDataset.csv')"
      ]
    },
    {
      "cell_type": "markdown",
      "metadata": {},
      "source": [
        "### Encontrar el tipo de campañas con mayor impacto en el año\n"
      ]
    },
    {
      "cell_type": "code",
      "execution_count": 27,
      "metadata": {},
      "outputs": [
        {
          "data": {
            "text/html": [
              "<div>\n",
              "<style scoped>\n",
              "    .dataframe tbody tr th:only-of-type {\n",
              "        vertical-align: middle;\n",
              "    }\n",
              "\n",
              "    .dataframe tbody tr th {\n",
              "        vertical-align: top;\n",
              "    }\n",
              "\n",
              "    .dataframe thead th {\n",
              "        text-align: right;\n",
              "    }\n",
              "</style>\n",
              "<table border=\"1\" class=\"dataframe\">\n",
              "  <thead>\n",
              "    <tr style=\"text-align: right;\">\n",
              "      <th></th>\n",
              "      <th>Type</th>\n",
              "      <th>CategoryType</th>\n",
              "      <th>Lifetime Engaged Users</th>\n",
              "    </tr>\n",
              "  </thead>\n",
              "  <tbody>\n",
              "    <tr>\n",
              "      <th>0</th>\n",
              "      <td>Link</td>\n",
              "      <td>Inspiration</td>\n",
              "      <td>282</td>\n",
              "    </tr>\n",
              "    <tr>\n",
              "      <th>1</th>\n",
              "      <td>Link</td>\n",
              "      <td>Manual action</td>\n",
              "      <td>7157</td>\n",
              "    </tr>\n",
              "    <tr>\n",
              "      <th>2</th>\n",
              "      <td>Link</td>\n",
              "      <td>Product</td>\n",
              "      <td>103</td>\n",
              "    </tr>\n",
              "    <tr>\n",
              "      <th>3</th>\n",
              "      <td>Photo</td>\n",
              "      <td>Inspiration</td>\n",
              "      <td>125033</td>\n",
              "    </tr>\n",
              "    <tr>\n",
              "      <th>4</th>\n",
              "      <td>Photo</td>\n",
              "      <td>Manual action</td>\n",
              "      <td>157662</td>\n",
              "    </tr>\n",
              "    <tr>\n",
              "      <th>5</th>\n",
              "      <td>Photo</td>\n",
              "      <td>Product</td>\n",
              "      <td>66176</td>\n",
              "    </tr>\n",
              "    <tr>\n",
              "      <th>6</th>\n",
              "      <td>Status</td>\n",
              "      <td>Inspiration</td>\n",
              "      <td>3878</td>\n",
              "    </tr>\n",
              "    <tr>\n",
              "      <th>7</th>\n",
              "      <td>Status</td>\n",
              "      <td>Manual action</td>\n",
              "      <td>6224</td>\n",
              "    </tr>\n",
              "    <tr>\n",
              "      <th>8</th>\n",
              "      <td>Status</td>\n",
              "      <td>Product</td>\n",
              "      <td>81708</td>\n",
              "    </tr>\n",
              "    <tr>\n",
              "      <th>9</th>\n",
              "      <td>Video</td>\n",
              "      <td>Manual action</td>\n",
              "      <td>11949</td>\n",
              "    </tr>\n",
              "  </tbody>\n",
              "</table>\n",
              "</div>"
            ],
            "text/plain": [
              "     Type   CategoryType  Lifetime Engaged Users\n",
              "0    Link    Inspiration                     282\n",
              "1    Link  Manual action                    7157\n",
              "2    Link        Product                     103\n",
              "3   Photo    Inspiration                  125033\n",
              "4   Photo  Manual action                  157662\n",
              "5   Photo        Product                   66176\n",
              "6  Status    Inspiration                    3878\n",
              "7  Status  Manual action                    6224\n",
              "8  Status        Product                   81708\n",
              "9   Video  Manual action                   11949"
            ]
          },
          "execution_count": 27,
          "metadata": {},
          "output_type": "execute_result"
        }
      ],
      "source": [
        "# Encontrar el tipo de campañas con mayor impacto en el año \n",
        "\n",
        "#interesting var to sum\n",
        "varToSum = 'Lifetime Engaged Users'\n",
        "dfByMonth = df.groupby(['Post Month', 'Month'])[varToSum].sum().reset_index()\n",
        "\n",
        "dfByType = df.groupby(['Type'])[varToSum].sum().reset_index()\n",
        "\n",
        "dfByCategory = df.groupby(['CategoryType'])[varToSum].sum().reset_index()\n",
        "\n",
        "dfByCategoryAndType = df.groupby(['Type','CategoryType'])[varToSum].sum().reset_index()\n",
        "dfByCategoryAndType\n"
      ]
    },
    {
      "cell_type": "markdown",
      "metadata": {},
      "source": [
        "### Diferencias entre campañas de paga y las gratuitas y su distribucion por post"
      ]
    },
    {
      "cell_type": "code",
      "execution_count": 28,
      "metadata": {},
      "outputs": [
        {
          "data": {
            "text/html": [
              "<div>\n",
              "<style scoped>\n",
              "    .dataframe tbody tr th:only-of-type {\n",
              "        vertical-align: middle;\n",
              "    }\n",
              "\n",
              "    .dataframe tbody tr th {\n",
              "        vertical-align: top;\n",
              "    }\n",
              "\n",
              "    .dataframe thead th {\n",
              "        text-align: right;\n",
              "    }\n",
              "</style>\n",
              "<table border=\"1\" class=\"dataframe\">\n",
              "  <thead>\n",
              "    <tr style=\"text-align: right;\">\n",
              "      <th></th>\n",
              "      <th>Paid</th>\n",
              "      <th>Type</th>\n",
              "      <th>Lifetime Engaged Users</th>\n",
              "      <th>Count</th>\n",
              "      <th>UsersPerPost</th>\n",
              "    </tr>\n",
              "  </thead>\n",
              "  <tbody>\n",
              "    <tr>\n",
              "      <th>4</th>\n",
              "      <td>1.0</td>\n",
              "      <td>Link</td>\n",
              "      <td>1373</td>\n",
              "      <td>6</td>\n",
              "      <td>228.833333</td>\n",
              "    </tr>\n",
              "    <tr>\n",
              "      <th>0</th>\n",
              "      <td>0.0</td>\n",
              "      <td>Link</td>\n",
              "      <td>6169</td>\n",
              "      <td>16</td>\n",
              "      <td>385.562500</td>\n",
              "    </tr>\n",
              "    <tr>\n",
              "      <th>1</th>\n",
              "      <td>0.0</td>\n",
              "      <td>Photo</td>\n",
              "      <td>227992</td>\n",
              "      <td>307</td>\n",
              "      <td>742.644951</td>\n",
              "    </tr>\n",
              "    <tr>\n",
              "      <th>5</th>\n",
              "      <td>1.0</td>\n",
              "      <td>Photo</td>\n",
              "      <td>120879</td>\n",
              "      <td>119</td>\n",
              "      <td>1015.789916</td>\n",
              "    </tr>\n",
              "    <tr>\n",
              "      <th>3</th>\n",
              "      <td>0.0</td>\n",
              "      <td>Video</td>\n",
              "      <td>4376</td>\n",
              "      <td>3</td>\n",
              "      <td>1458.666667</td>\n",
              "    </tr>\n",
              "    <tr>\n",
              "      <th>7</th>\n",
              "      <td>1.0</td>\n",
              "      <td>Video</td>\n",
              "      <td>7573</td>\n",
              "      <td>4</td>\n",
              "      <td>1893.250000</td>\n",
              "    </tr>\n",
              "    <tr>\n",
              "      <th>2</th>\n",
              "      <td>0.0</td>\n",
              "      <td>Status</td>\n",
              "      <td>67828</td>\n",
              "      <td>35</td>\n",
              "      <td>1937.942857</td>\n",
              "    </tr>\n",
              "    <tr>\n",
              "      <th>6</th>\n",
              "      <td>1.0</td>\n",
              "      <td>Status</td>\n",
              "      <td>23982</td>\n",
              "      <td>10</td>\n",
              "      <td>2398.200000</td>\n",
              "    </tr>\n",
              "  </tbody>\n",
              "</table>\n",
              "</div>"
            ],
            "text/plain": [
              "   Paid    Type  Lifetime Engaged Users  Count  UsersPerPost\n",
              "4   1.0    Link                    1373      6    228.833333\n",
              "0   0.0    Link                    6169     16    385.562500\n",
              "1   0.0   Photo                  227992    307    742.644951\n",
              "5   1.0   Photo                  120879    119   1015.789916\n",
              "3   0.0   Video                    4376      3   1458.666667\n",
              "7   1.0   Video                    7573      4   1893.250000\n",
              "2   0.0  Status                   67828     35   1937.942857\n",
              "6   1.0  Status                   23982     10   2398.200000"
            ]
          },
          "execution_count": 28,
          "metadata": {},
          "output_type": "execute_result"
        }
      ],
      "source": [
        "## Diferencias entre campañas de paga donde 0 es sin paga y 1 es de paga y su\n",
        "# efecto en la cantidad de usuarios alcanzados\n",
        "\n",
        "dfByPaidCampaign = df.groupby(['Paid'])[varToSum].sum().reset_index()\n",
        "\n",
        "dfByPaidCampaignAndType = df.groupby(['Paid', 'Type'])[varToSum].sum().reset_index()\n",
        "dfByPaidCampaignAndTypeCount = df.groupby(['Paid', 'Type'])[varToSum].count().reset_index()\n",
        "dfByPaidCampaignAndTypeCount['Count'] = dfByPaidCampaignAndTypeCount[varToSum]\n",
        "del dfByPaidCampaignAndTypeCount[varToSum]\n",
        "\n",
        "dfByPaidCampaignAndType = pd.merge(dfByPaidCampaignAndType, dfByPaidCampaignAndTypeCount, how='left', left_on=['Paid', 'Type'], right_on=['Paid', 'Type'])\n",
        "dfByPaidCampaignAndType['UsersPerPost'] = dfByPaidCampaignAndType[varToSum] / dfByPaidCampaignAndType.Count\n",
        "dfByPaidCampaignAndType.sort_values('UsersPerPost')"
      ]
    },
    {
      "cell_type": "code",
      "execution_count": 44,
      "metadata": {},
      "outputs": [
        {
          "data": {
            "image/png": "[encoded data removed]",
            "text/plain": [
              "<Figure size 864x576 with 1 Axes>"
            ]
          },
          "metadata": {
            "needs_background": "light"
          },
          "output_type": "display_data"
        }
      ],
      "source": [
        "plt.figure(figsize=(12,8))\n",
        "\n",
        "ax = sns.scatterplot(data = dfByPaidCampaignAndType, x = 'UsersPerPost', y = 'Count', hue='Type', palette='mako')\n",
        "for i in range(dfByPaidCampaignAndType.shape[0]):\n",
        "    ax.text(dfByPaidCampaignAndType.UsersPerPost.iloc[i], dfByPaidCampaignAndType.Count.iloc[i], dfByPaidCampaignAndType.Paid.iloc[i], horizontalalignment='left', size='small', color='black', weight='semibold')"
      ]
    },
    {
      "cell_type": "markdown",
      "metadata": {},
      "source": [
        "### Campañas que generan más interacción con nuevos clientes"
      ]
    },
    {
      "cell_type": "code",
      "execution_count": 30,
      "metadata": {},
      "outputs": [
        {
          "data": {
            "text/html": [
              "<div>\n",
              "<style scoped>\n",
              "    .dataframe tbody tr th:only-of-type {\n",
              "        vertical-align: middle;\n",
              "    }\n",
              "\n",
              "    .dataframe tbody tr th {\n",
              "        vertical-align: top;\n",
              "    }\n",
              "\n",
              "    .dataframe thead th {\n",
              "        text-align: right;\n",
              "    }\n",
              "</style>\n",
              "<table border=\"1\" class=\"dataframe\">\n",
              "  <thead>\n",
              "    <tr style=\"text-align: right;\">\n",
              "      <th></th>\n",
              "      <th>Paid</th>\n",
              "      <th>Type</th>\n",
              "      <th>CategoryType</th>\n",
              "      <th>Lifetime People who have liked your Page and engaged with your post</th>\n",
              "      <th>Count</th>\n",
              "      <th>UsersPerPost</th>\n",
              "    </tr>\n",
              "  </thead>\n",
              "  <tbody>\n",
              "    <tr>\n",
              "      <th>2</th>\n",
              "      <td>0.0</td>\n",
              "      <td>Link</td>\n",
              "      <td>Product</td>\n",
              "      <td>92</td>\n",
              "      <td>1</td>\n",
              "      <td>92.000000</td>\n",
              "    </tr>\n",
              "    <tr>\n",
              "      <th>10</th>\n",
              "      <td>1.0</td>\n",
              "      <td>Link</td>\n",
              "      <td>Manual action</td>\n",
              "      <td>866</td>\n",
              "      <td>6</td>\n",
              "      <td>144.333333</td>\n",
              "    </tr>\n",
              "    <tr>\n",
              "      <th>1</th>\n",
              "      <td>0.0</td>\n",
              "      <td>Link</td>\n",
              "      <td>Manual action</td>\n",
              "      <td>3415</td>\n",
              "      <td>14</td>\n",
              "      <td>243.928571</td>\n",
              "    </tr>\n",
              "    <tr>\n",
              "      <th>0</th>\n",
              "      <td>0.0</td>\n",
              "      <td>Link</td>\n",
              "      <td>Inspiration</td>\n",
              "      <td>259</td>\n",
              "      <td>1</td>\n",
              "      <td>259.000000</td>\n",
              "    </tr>\n",
              "    <tr>\n",
              "      <th>5</th>\n",
              "      <td>0.0</td>\n",
              "      <td>Photo</td>\n",
              "      <td>Product</td>\n",
              "      <td>25139</td>\n",
              "      <td>68</td>\n",
              "      <td>369.691176</td>\n",
              "    </tr>\n",
              "    <tr>\n",
              "      <th>4</th>\n",
              "      <td>0.0</td>\n",
              "      <td>Photo</td>\n",
              "      <td>Manual action</td>\n",
              "      <td>66209</td>\n",
              "      <td>132</td>\n",
              "      <td>501.583333</td>\n",
              "    </tr>\n",
              "    <tr>\n",
              "      <th>11</th>\n",
              "      <td>1.0</td>\n",
              "      <td>Photo</td>\n",
              "      <td>Inspiration</td>\n",
              "      <td>22054</td>\n",
              "      <td>43</td>\n",
              "      <td>512.883721</td>\n",
              "    </tr>\n",
              "    <tr>\n",
              "      <th>3</th>\n",
              "      <td>0.0</td>\n",
              "      <td>Photo</td>\n",
              "      <td>Inspiration</td>\n",
              "      <td>56753</td>\n",
              "      <td>107</td>\n",
              "      <td>530.401869</td>\n",
              "    </tr>\n",
              "    <tr>\n",
              "      <th>12</th>\n",
              "      <td>1.0</td>\n",
              "      <td>Photo</td>\n",
              "      <td>Manual action</td>\n",
              "      <td>30455</td>\n",
              "      <td>53</td>\n",
              "      <td>574.622642</td>\n",
              "    </tr>\n",
              "    <tr>\n",
              "      <th>13</th>\n",
              "      <td>1.0</td>\n",
              "      <td>Photo</td>\n",
              "      <td>Product</td>\n",
              "      <td>15502</td>\n",
              "      <td>23</td>\n",
              "      <td>674.000000</td>\n",
              "    </tr>\n",
              "    <tr>\n",
              "      <th>6</th>\n",
              "      <td>0.0</td>\n",
              "      <td>Status</td>\n",
              "      <td>Inspiration</td>\n",
              "      <td>3275</td>\n",
              "      <td>4</td>\n",
              "      <td>818.750000</td>\n",
              "    </tr>\n",
              "    <tr>\n",
              "      <th>9</th>\n",
              "      <td>0.0</td>\n",
              "      <td>Video</td>\n",
              "      <td>Manual action</td>\n",
              "      <td>2831</td>\n",
              "      <td>3</td>\n",
              "      <td>943.666667</td>\n",
              "    </tr>\n",
              "    <tr>\n",
              "      <th>16</th>\n",
              "      <td>1.0</td>\n",
              "      <td>Video</td>\n",
              "      <td>Manual action</td>\n",
              "      <td>4025</td>\n",
              "      <td>4</td>\n",
              "      <td>1006.250000</td>\n",
              "    </tr>\n",
              "    <tr>\n",
              "      <th>14</th>\n",
              "      <td>1.0</td>\n",
              "      <td>Status</td>\n",
              "      <td>Manual action</td>\n",
              "      <td>1578</td>\n",
              "      <td>1</td>\n",
              "      <td>1578.000000</td>\n",
              "    </tr>\n",
              "    <tr>\n",
              "      <th>8</th>\n",
              "      <td>0.0</td>\n",
              "      <td>Status</td>\n",
              "      <td>Product</td>\n",
              "      <td>50790</td>\n",
              "      <td>29</td>\n",
              "      <td>1751.379310</td>\n",
              "    </tr>\n",
              "    <tr>\n",
              "      <th>7</th>\n",
              "      <td>0.0</td>\n",
              "      <td>Status</td>\n",
              "      <td>Manual action</td>\n",
              "      <td>3938</td>\n",
              "      <td>2</td>\n",
              "      <td>1969.000000</td>\n",
              "    </tr>\n",
              "    <tr>\n",
              "      <th>15</th>\n",
              "      <td>1.0</td>\n",
              "      <td>Status</td>\n",
              "      <td>Product</td>\n",
              "      <td>17812</td>\n",
              "      <td>9</td>\n",
              "      <td>1979.111111</td>\n",
              "    </tr>\n",
              "  </tbody>\n",
              "</table>\n",
              "</div>"
            ],
            "text/plain": [
              "    Paid    Type   CategoryType  \\\n",
              "2    0.0    Link        Product   \n",
              "10   1.0    Link  Manual action   \n",
              "1    0.0    Link  Manual action   \n",
              "0    0.0    Link    Inspiration   \n",
              "5    0.0   Photo        Product   \n",
              "4    0.0   Photo  Manual action   \n",
              "11   1.0   Photo    Inspiration   \n",
              "3    0.0   Photo    Inspiration   \n",
              "12   1.0   Photo  Manual action   \n",
              "13   1.0   Photo        Product   \n",
              "6    0.0  Status    Inspiration   \n",
              "9    0.0   Video  Manual action   \n",
              "16   1.0   Video  Manual action   \n",
              "14   1.0  Status  Manual action   \n",
              "8    0.0  Status        Product   \n",
              "7    0.0  Status  Manual action   \n",
              "15   1.0  Status        Product   \n",
              "\n",
              "    Lifetime People who have liked your Page and engaged with your post  \\\n",
              "2                                                  92                     \n",
              "10                                                866                     \n",
              "1                                                3415                     \n",
              "0                                                 259                     \n",
              "5                                               25139                     \n",
              "4                                               66209                     \n",
              "11                                              22054                     \n",
              "3                                               56753                     \n",
              "12                                              30455                     \n",
              "13                                              15502                     \n",
              "6                                                3275                     \n",
              "9                                                2831                     \n",
              "16                                               4025                     \n",
              "14                                               1578                     \n",
              "8                                               50790                     \n",
              "7                                                3938                     \n",
              "15                                              17812                     \n",
              "\n",
              "    Count  UsersPerPost  \n",
              "2       1     92.000000  \n",
              "10      6    144.333333  \n",
              "1      14    243.928571  \n",
              "0       1    259.000000  \n",
              "5      68    369.691176  \n",
              "4     132    501.583333  \n",
              "11     43    512.883721  \n",
              "3     107    530.401869  \n",
              "12     53    574.622642  \n",
              "13     23    674.000000  \n",
              "6       4    818.750000  \n",
              "9       3    943.666667  \n",
              "16      4   1006.250000  \n",
              "14      1   1578.000000  \n",
              "8      29   1751.379310  \n",
              "7       2   1969.000000  \n",
              "15      9   1979.111111  "
            ]
          },
          "execution_count": 30,
          "metadata": {},
          "output_type": "execute_result"
        }
      ],
      "source": [
        "##\n",
        "varToExplore = 'Lifetime People who have liked your Page and engaged with your post'\n",
        "grouping = ['Paid', 'Type', 'CategoryType']\n",
        "\n",
        "dfByInteractionsNewPeople = df.groupby(grouping)[varToExplore].sum().reset_index()\n",
        "dfByInteractionsNewPeopleCount = df.groupby(grouping)[varToExplore].count().reset_index()\n",
        "\n",
        "dfByInteractionsNewPeopleCount['Count'] = dfByInteractionsNewPeopleCount[varToExplore]\n",
        "del dfByInteractionsNewPeopleCount[varToExplore]\n",
        "\n",
        "dfByInteractionsNewPeople = pd.merge(dfByInteractionsNewPeople, dfByInteractionsNewPeopleCount, how='left', left_on=['Paid', 'Type', 'CategoryType'], right_on=['Paid', 'Type', 'CategoryType'])\n",
        "\n",
        "\n",
        "dfByInteractionsNewPeople['UsersPerPost'] = dfByInteractionsNewPeople[varToExplore] / dfByInteractionsNewPeople.Count\n",
        "dfByInteractionsNewPeople.sort_values('UsersPerPost')"
      ]
    },
    {
      "cell_type": "code",
      "execution_count": 53,
      "metadata": {},
      "outputs": [
        {
          "name": "stderr",
          "output_type": "stream",
          "text": [
            "/var/folders/0m/4905957163dg3p6x_72tp3780000gn/T/ipykernel_19580/2733478173.py:2: FutureWarning: \n",
            "\n",
            "The `ci` parameter is deprecated. Use `errorbar=None` for the same effect.\n",
            "\n",
            "  sns.barplot(dfByInteractionsNewPeople, x='UsersPerPost', y='Type', hue='CategoryType', ci=None, palette='mako')\n"
          ]
        },
        {
          "data": {
            "text/plain": [
              "<AxesSubplot:xlabel='UsersPerPost', ylabel='Type'>"
            ]
          },
          "execution_count": 53,
          "metadata": {},
          "output_type": "execute_result"
        },
        {
          "data": {
            "image/png": "[encoded data removed]",
            "text/plain": [
              "<Figure size 1152x576 with 1 Axes>"
            ]
          },
          "metadata": {
            "needs_background": "light"
          },
          "output_type": "display_data"
        }
      ],
      "source": [
        "plt.figure(figsize=(16,8))\n",
        "sns.barplot(dfByInteractionsNewPeople, x='UsersPerPost', y='Type', hue='CategoryType', ci=None, palette='mako')"
      ]
    },
    {
      "cell_type": "markdown",
      "metadata": {},
      "source": [
        "### Campañas que generan más interacción con clientes actuales"
      ]
    },
    {
      "cell_type": "code",
      "execution_count": 31,
      "metadata": {},
      "outputs": [
        {
          "data": {
            "text/html": [
              "<div>\n",
              "<style scoped>\n",
              "    .dataframe tbody tr th:only-of-type {\n",
              "        vertical-align: middle;\n",
              "    }\n",
              "\n",
              "    .dataframe tbody tr th {\n",
              "        vertical-align: top;\n",
              "    }\n",
              "\n",
              "    .dataframe thead th {\n",
              "        text-align: right;\n",
              "    }\n",
              "</style>\n",
              "<table border=\"1\" class=\"dataframe\">\n",
              "  <thead>\n",
              "    <tr style=\"text-align: right;\">\n",
              "      <th></th>\n",
              "      <th>Paid</th>\n",
              "      <th>Type</th>\n",
              "      <th>CategoryType</th>\n",
              "      <th>Lifetime Post reach by people who like your Page</th>\n",
              "      <th>Count</th>\n",
              "      <th>UsersPerPost</th>\n",
              "    </tr>\n",
              "  </thead>\n",
              "  <tbody>\n",
              "    <tr>\n",
              "      <th>5</th>\n",
              "      <td>0.0</td>\n",
              "      <td>Photo</td>\n",
              "      <td>Product</td>\n",
              "      <td>192776</td>\n",
              "      <td>68</td>\n",
              "      <td>2834.941176</td>\n",
              "    </tr>\n",
              "    <tr>\n",
              "      <th>10</th>\n",
              "      <td>1.0</td>\n",
              "      <td>Link</td>\n",
              "      <td>Manual action</td>\n",
              "      <td>23035</td>\n",
              "      <td>6</td>\n",
              "      <td>3839.166667</td>\n",
              "    </tr>\n",
              "    <tr>\n",
              "      <th>2</th>\n",
              "      <td>0.0</td>\n",
              "      <td>Link</td>\n",
              "      <td>Product</td>\n",
              "      <td>4830</td>\n",
              "      <td>1</td>\n",
              "      <td>4830.000000</td>\n",
              "    </tr>\n",
              "    <tr>\n",
              "      <th>11</th>\n",
              "      <td>1.0</td>\n",
              "      <td>Photo</td>\n",
              "      <td>Inspiration</td>\n",
              "      <td>215930</td>\n",
              "      <td>43</td>\n",
              "      <td>5021.627907</td>\n",
              "    </tr>\n",
              "    <tr>\n",
              "      <th>6</th>\n",
              "      <td>0.0</td>\n",
              "      <td>Status</td>\n",
              "      <td>Inspiration</td>\n",
              "      <td>21206</td>\n",
              "      <td>4</td>\n",
              "      <td>5301.500000</td>\n",
              "    </tr>\n",
              "    <tr>\n",
              "      <th>0</th>\n",
              "      <td>0.0</td>\n",
              "      <td>Link</td>\n",
              "      <td>Inspiration</td>\n",
              "      <td>5752</td>\n",
              "      <td>1</td>\n",
              "      <td>5752.000000</td>\n",
              "    </tr>\n",
              "    <tr>\n",
              "      <th>3</th>\n",
              "      <td>0.0</td>\n",
              "      <td>Photo</td>\n",
              "      <td>Inspiration</td>\n",
              "      <td>641144</td>\n",
              "      <td>107</td>\n",
              "      <td>5992.000000</td>\n",
              "    </tr>\n",
              "    <tr>\n",
              "      <th>4</th>\n",
              "      <td>0.0</td>\n",
              "      <td>Photo</td>\n",
              "      <td>Manual action</td>\n",
              "      <td>840057</td>\n",
              "      <td>132</td>\n",
              "      <td>6364.068182</td>\n",
              "    </tr>\n",
              "    <tr>\n",
              "      <th>1</th>\n",
              "      <td>0.0</td>\n",
              "      <td>Link</td>\n",
              "      <td>Manual action</td>\n",
              "      <td>110359</td>\n",
              "      <td>14</td>\n",
              "      <td>7882.785714</td>\n",
              "    </tr>\n",
              "    <tr>\n",
              "      <th>13</th>\n",
              "      <td>1.0</td>\n",
              "      <td>Photo</td>\n",
              "      <td>Product</td>\n",
              "      <td>208086</td>\n",
              "      <td>23</td>\n",
              "      <td>9047.217391</td>\n",
              "    </tr>\n",
              "    <tr>\n",
              "      <th>12</th>\n",
              "      <td>1.0</td>\n",
              "      <td>Photo</td>\n",
              "      <td>Manual action</td>\n",
              "      <td>483185</td>\n",
              "      <td>53</td>\n",
              "      <td>9116.698113</td>\n",
              "    </tr>\n",
              "    <tr>\n",
              "      <th>8</th>\n",
              "      <td>0.0</td>\n",
              "      <td>Status</td>\n",
              "      <td>Product</td>\n",
              "      <td>283860</td>\n",
              "      <td>29</td>\n",
              "      <td>9788.275862</td>\n",
              "    </tr>\n",
              "    <tr>\n",
              "      <th>7</th>\n",
              "      <td>0.0</td>\n",
              "      <td>Status</td>\n",
              "      <td>Manual action</td>\n",
              "      <td>20892</td>\n",
              "      <td>2</td>\n",
              "      <td>10446.000000</td>\n",
              "    </tr>\n",
              "    <tr>\n",
              "      <th>15</th>\n",
              "      <td>1.0</td>\n",
              "      <td>Status</td>\n",
              "      <td>Product</td>\n",
              "      <td>98576</td>\n",
              "      <td>9</td>\n",
              "      <td>10952.888889</td>\n",
              "    </tr>\n",
              "    <tr>\n",
              "      <th>16</th>\n",
              "      <td>1.0</td>\n",
              "      <td>Video</td>\n",
              "      <td>Manual action</td>\n",
              "      <td>55480</td>\n",
              "      <td>4</td>\n",
              "      <td>13870.000000</td>\n",
              "    </tr>\n",
              "    <tr>\n",
              "      <th>14</th>\n",
              "      <td>1.0</td>\n",
              "      <td>Status</td>\n",
              "      <td>Manual action</td>\n",
              "      <td>21352</td>\n",
              "      <td>1</td>\n",
              "      <td>21352.000000</td>\n",
              "    </tr>\n",
              "    <tr>\n",
              "      <th>9</th>\n",
              "      <td>0.0</td>\n",
              "      <td>Video</td>\n",
              "      <td>Manual action</td>\n",
              "      <td>66224</td>\n",
              "      <td>3</td>\n",
              "      <td>22074.666667</td>\n",
              "    </tr>\n",
              "  </tbody>\n",
              "</table>\n",
              "</div>"
            ],
            "text/plain": [
              "    Paid    Type   CategoryType  \\\n",
              "5    0.0   Photo        Product   \n",
              "10   1.0    Link  Manual action   \n",
              "2    0.0    Link        Product   \n",
              "11   1.0   Photo    Inspiration   \n",
              "6    0.0  Status    Inspiration   \n",
              "0    0.0    Link    Inspiration   \n",
              "3    0.0   Photo    Inspiration   \n",
              "4    0.0   Photo  Manual action   \n",
              "1    0.0    Link  Manual action   \n",
              "13   1.0   Photo        Product   \n",
              "12   1.0   Photo  Manual action   \n",
              "8    0.0  Status        Product   \n",
              "7    0.0  Status  Manual action   \n",
              "15   1.0  Status        Product   \n",
              "16   1.0   Video  Manual action   \n",
              "14   1.0  Status  Manual action   \n",
              "9    0.0   Video  Manual action   \n",
              "\n",
              "    Lifetime Post reach by people who like your Page  Count  UsersPerPost  \n",
              "5                                             192776     68   2834.941176  \n",
              "10                                             23035      6   3839.166667  \n",
              "2                                               4830      1   4830.000000  \n",
              "11                                            215930     43   5021.627907  \n",
              "6                                              21206      4   5301.500000  \n",
              "0                                               5752      1   5752.000000  \n",
              "3                                             641144    107   5992.000000  \n",
              "4                                             840057    132   6364.068182  \n",
              "1                                             110359     14   7882.785714  \n",
              "13                                            208086     23   9047.217391  \n",
              "12                                            483185     53   9116.698113  \n",
              "8                                             283860     29   9788.275862  \n",
              "7                                              20892      2  10446.000000  \n",
              "15                                             98576      9  10952.888889  \n",
              "16                                             55480      4  13870.000000  \n",
              "14                                             21352      1  21352.000000  \n",
              "9                                              66224      3  22074.666667  "
            ]
          },
          "execution_count": 31,
          "metadata": {},
          "output_type": "execute_result"
        }
      ],
      "source": [
        "##\n",
        "varToExplore = 'Lifetime Post reach by people who like your Page'\n",
        "grouping = ['Paid', 'Type', 'CategoryType']\n",
        "\n",
        "dfByInteractionsNewPeople = df.groupby(grouping)[varToExplore].sum().reset_index()\n",
        "dfByInteractionsNewPeopleCount = df.groupby(grouping)[varToExplore].count().reset_index()\n",
        "\n",
        "dfByInteractionsNewPeopleCount['Count'] = dfByInteractionsNewPeopleCount[varToExplore]\n",
        "del dfByInteractionsNewPeopleCount[varToExplore]\n",
        "\n",
        "dfByInteractionsNewPeople = pd.merge(dfByInteractionsNewPeople, dfByInteractionsNewPeopleCount, how='left', left_on=['Paid', 'Type', 'CategoryType'], right_on=['Paid', 'Type', 'CategoryType'])\n",
        "\n",
        "\n",
        "dfByInteractionsNewPeople['UsersPerPost'] = dfByInteractionsNewPeople[varToExplore] / dfByInteractionsNewPeople.Count\n",
        "dfByInteractionsNewPeople.sort_values('UsersPerPost')"
      ]
    },
    {
      "cell_type": "markdown",
      "metadata": {},
      "source": [
        "### Interacciones en el tiempo"
      ]
    },
    {
      "cell_type": "code",
      "execution_count": 32,
      "metadata": {},
      "outputs": [
        {
          "data": {
            "text/html": [
              "<div>\n",
              "<style scoped>\n",
              "    .dataframe tbody tr th:only-of-type {\n",
              "        vertical-align: middle;\n",
              "    }\n",
              "\n",
              "    .dataframe tbody tr th {\n",
              "        vertical-align: top;\n",
              "    }\n",
              "\n",
              "    .dataframe thead th {\n",
              "        text-align: right;\n",
              "    }\n",
              "</style>\n",
              "<table border=\"1\" class=\"dataframe\">\n",
              "  <thead>\n",
              "    <tr style=\"text-align: right;\">\n",
              "      <th></th>\n",
              "      <th>Post Month</th>\n",
              "      <th>Month</th>\n",
              "      <th>Paid</th>\n",
              "      <th>Count</th>\n",
              "      <th>Page total likes</th>\n",
              "    </tr>\n",
              "  </thead>\n",
              "  <tbody>\n",
              "    <tr>\n",
              "      <th>0</th>\n",
              "      <td>1</td>\n",
              "      <td>Jan</td>\n",
              "      <td>0.0</td>\n",
              "      <td>21</td>\n",
              "      <td>86909</td>\n",
              "    </tr>\n",
              "    <tr>\n",
              "      <th>1</th>\n",
              "      <td>1</td>\n",
              "      <td>Jan</td>\n",
              "      <td>1.0</td>\n",
              "      <td>4</td>\n",
              "      <td>86909</td>\n",
              "    </tr>\n",
              "    <tr>\n",
              "      <th>2</th>\n",
              "      <td>2</td>\n",
              "      <td>Feb</td>\n",
              "      <td>0.0</td>\n",
              "      <td>18</td>\n",
              "      <td>93577</td>\n",
              "    </tr>\n",
              "    <tr>\n",
              "      <th>3</th>\n",
              "      <td>2</td>\n",
              "      <td>Feb</td>\n",
              "      <td>1.0</td>\n",
              "      <td>8</td>\n",
              "      <td>93684</td>\n",
              "    </tr>\n",
              "    <tr>\n",
              "      <th>4</th>\n",
              "      <td>3</td>\n",
              "      <td>Mar</td>\n",
              "      <td>0.0</td>\n",
              "      <td>28</td>\n",
              "      <td>104070</td>\n",
              "    </tr>\n",
              "    <tr>\n",
              "      <th>5</th>\n",
              "      <td>3</td>\n",
              "      <td>Mar</td>\n",
              "      <td>1.0</td>\n",
              "      <td>8</td>\n",
              "      <td>104070</td>\n",
              "    </tr>\n",
              "    <tr>\n",
              "      <th>6</th>\n",
              "      <td>4</td>\n",
              "      <td>Apr</td>\n",
              "      <td>0.0</td>\n",
              "      <td>30</td>\n",
              "      <td>115893</td>\n",
              "    </tr>\n",
              "    <tr>\n",
              "      <th>7</th>\n",
              "      <td>4</td>\n",
              "      <td>Apr</td>\n",
              "      <td>1.0</td>\n",
              "      <td>20</td>\n",
              "      <td>115893</td>\n",
              "    </tr>\n",
              "    <tr>\n",
              "      <th>8</th>\n",
              "      <td>5</td>\n",
              "      <td>May</td>\n",
              "      <td>0.0</td>\n",
              "      <td>29</td>\n",
              "      <td>121540</td>\n",
              "    </tr>\n",
              "    <tr>\n",
              "      <th>9</th>\n",
              "      <td>5</td>\n",
              "      <td>May</td>\n",
              "      <td>1.0</td>\n",
              "      <td>8</td>\n",
              "      <td>120050</td>\n",
              "    </tr>\n",
              "    <tr>\n",
              "      <th>10</th>\n",
              "      <td>6</td>\n",
              "      <td>Jun</td>\n",
              "      <td>0.0</td>\n",
              "      <td>36</td>\n",
              "      <td>126424</td>\n",
              "    </tr>\n",
              "    <tr>\n",
              "      <th>11</th>\n",
              "      <td>6</td>\n",
              "      <td>Jun</td>\n",
              "      <td>1.0</td>\n",
              "      <td>13</td>\n",
              "      <td>126345</td>\n",
              "    </tr>\n",
              "    <tr>\n",
              "      <th>12</th>\n",
              "      <td>7</td>\n",
              "      <td>Jul</td>\n",
              "      <td>0.0</td>\n",
              "      <td>32</td>\n",
              "      <td>131808</td>\n",
              "    </tr>\n",
              "    <tr>\n",
              "      <th>13</th>\n",
              "      <td>7</td>\n",
              "      <td>Jul</td>\n",
              "      <td>1.0</td>\n",
              "      <td>20</td>\n",
              "      <td>131728</td>\n",
              "    </tr>\n",
              "    <tr>\n",
              "      <th>14</th>\n",
              "      <td>8</td>\n",
              "      <td>Aug</td>\n",
              "      <td>0.0</td>\n",
              "      <td>24</td>\n",
              "      <td>133679</td>\n",
              "    </tr>\n",
              "    <tr>\n",
              "      <th>15</th>\n",
              "      <td>8</td>\n",
              "      <td>Aug</td>\n",
              "      <td>1.0</td>\n",
              "      <td>10</td>\n",
              "      <td>133594</td>\n",
              "    </tr>\n",
              "    <tr>\n",
              "      <th>16</th>\n",
              "      <td>9</td>\n",
              "      <td>Sep</td>\n",
              "      <td>0.0</td>\n",
              "      <td>25</td>\n",
              "      <td>135700</td>\n",
              "    </tr>\n",
              "    <tr>\n",
              "      <th>17</th>\n",
              "      <td>9</td>\n",
              "      <td>Sep</td>\n",
              "      <td>1.0</td>\n",
              "      <td>11</td>\n",
              "      <td>135617</td>\n",
              "    </tr>\n",
              "    <tr>\n",
              "      <th>18</th>\n",
              "      <td>10</td>\n",
              "      <td>Oct</td>\n",
              "      <td>0.0</td>\n",
              "      <td>48</td>\n",
              "      <td>137059</td>\n",
              "    </tr>\n",
              "    <tr>\n",
              "      <th>19</th>\n",
              "      <td>10</td>\n",
              "      <td>Oct</td>\n",
              "      <td>1.0</td>\n",
              "      <td>12</td>\n",
              "      <td>137020</td>\n",
              "    </tr>\n",
              "    <tr>\n",
              "      <th>20</th>\n",
              "      <td>11</td>\n",
              "      <td>Nov</td>\n",
              "      <td>0.0</td>\n",
              "      <td>30</td>\n",
              "      <td>138353</td>\n",
              "    </tr>\n",
              "    <tr>\n",
              "      <th>21</th>\n",
              "      <td>11</td>\n",
              "      <td>Nov</td>\n",
              "      <td>1.0</td>\n",
              "      <td>15</td>\n",
              "      <td>138329</td>\n",
              "    </tr>\n",
              "    <tr>\n",
              "      <th>22</th>\n",
              "      <td>12</td>\n",
              "      <td>Dec</td>\n",
              "      <td>0.0</td>\n",
              "      <td>40</td>\n",
              "      <td>139441</td>\n",
              "    </tr>\n",
              "    <tr>\n",
              "      <th>23</th>\n",
              "      <td>12</td>\n",
              "      <td>Dec</td>\n",
              "      <td>1.0</td>\n",
              "      <td>10</td>\n",
              "      <td>139441</td>\n",
              "    </tr>\n",
              "  </tbody>\n",
              "</table>\n",
              "</div>"
            ],
            "text/plain": [
              "    Post Month Month  Paid  Count  Page total likes\n",
              "0            1   Jan   0.0     21             86909\n",
              "1            1   Jan   1.0      4             86909\n",
              "2            2   Feb   0.0     18             93577\n",
              "3            2   Feb   1.0      8             93684\n",
              "4            3   Mar   0.0     28            104070\n",
              "5            3   Mar   1.0      8            104070\n",
              "6            4   Apr   0.0     30            115893\n",
              "7            4   Apr   1.0     20            115893\n",
              "8            5   May   0.0     29            121540\n",
              "9            5   May   1.0      8            120050\n",
              "10           6   Jun   0.0     36            126424\n",
              "11           6   Jun   1.0     13            126345\n",
              "12           7   Jul   0.0     32            131808\n",
              "13           7   Jul   1.0     20            131728\n",
              "14           8   Aug   0.0     24            133679\n",
              "15           8   Aug   1.0     10            133594\n",
              "16           9   Sep   0.0     25            135700\n",
              "17           9   Sep   1.0     11            135617\n",
              "18          10   Oct   0.0     48            137059\n",
              "19          10   Oct   1.0     12            137020\n",
              "20          11   Nov   0.0     30            138353\n",
              "21          11   Nov   1.0     15            138329\n",
              "22          12   Dec   0.0     40            139441\n",
              "23          12   Dec   1.0     10            139441"
            ]
          },
          "execution_count": 32,
          "metadata": {},
          "output_type": "execute_result"
        }
      ],
      "source": [
        "varToExplore = 'Page total likes'\n",
        "grouping = ['Post Month','Month', 'Paid']\n",
        "\n",
        "dfByTimePaidVsFree = df.groupby(grouping)[varToExplore].count().reset_index()\n",
        "dfByTimePaidVsFree['Count'] = dfByTimePaidVsFree[varToExplore]\n",
        "del dfByTimePaidVsFree[varToExplore]\n",
        "\n",
        "dfByTimePaidVsFreeMax = df.groupby(grouping)[varToExplore].max().reset_index()\n",
        "\n",
        "dfByTimePaidVsFree = pd.merge(dfByTimePaidVsFree, dfByTimePaidVsFreeMax, how='left', left_on=grouping, right_on=grouping)\n",
        "dfByTimePaidVsFree"
      ]
    },
    {
      "cell_type": "code",
      "execution_count": 33,
      "metadata": {},
      "outputs": [
        {
          "data": {
            "text/plain": [
              "<AxesSubplot:xlabel='Month', ylabel='Count'>"
            ]
          },
          "execution_count": 33,
          "metadata": {},
          "output_type": "execute_result"
        },
        {
          "data": {
            "image/png": "[encoded data removed]",
            "text/plain": [
              "<Figure size 864x576 with 2 Axes>"
            ]
          },
          "metadata": {
            "needs_background": "light"
          },
          "output_type": "display_data"
        }
      ],
      "source": [
        "# grafico en el tiempo y el impacto de las campañas\n",
        "fig, ax1 = plt.subplots(figsize=(12,8))\n",
        "sns.lineplot(data=dfByTimePaidVsFree, x='Month', y='Page total likes', ax= ax1, marker='o')\n",
        "ax2 = ax1.twinx()\n",
        "sns.barplot(dfByTimePaidVsFree, x='Month', y='Count', hue='Paid', alpha=0.6)"
      ]
    },
    {
      "cell_type": "code",
      "execution_count": null,
      "metadata": {},
      "outputs": [],
      "source": []
    },
    {
      "cell_type": "code",
      "execution_count": 34,
      "metadata": {},
      "outputs": [
        {
          "data": {
            "text/plain": [
              "<AxesSubplot:xlabel='Month', ylabel='Count'>"
            ]
          },
          "execution_count": 34,
          "metadata": {},
          "output_type": "execute_result"
        },
        {
          "data": {
            "image/png": "[encoded data removed]",
            "text/plain": [
              "<Figure size 864x576 with 1 Axes>"
            ]
          },
          "metadata": {
            "needs_background": "light"
          },
          "output_type": "display_data"
        }
      ],
      "source": [
        "# Entender los tipos de posts de enero a julio\n",
        "dfByType = df[df['Post Month'] < 13]\n",
        "grouping = ['Post Month', 'Month', 'Type']\n",
        "varToExplore = 'like'\n",
        "dfByType = dfByType.groupby(grouping)[varToExplore].count().reset_index()\n",
        "dfByType = dfByType.rename(columns={'like': 'Count'})\n",
        "\n",
        "plt.figure(figsize=(12,8))\n",
        "sns.barplot(data=dfByType, x = 'Month', y='Count', hue='Type')"
      ]
    },
    {
      "cell_type": "markdown",
      "metadata": {},
      "source": [
        "### Insights finales de mejores estrategias y si vale la pena invertir\n",
        "\n",
        "Usar kpis claros tomando como referencia el número gastado"
      ]
    },
    {
      "cell_type": "code",
      "execution_count": 35,
      "metadata": {},
      "outputs": [],
      "source": [
        "## Finales de lo que se está haciendo bien y de lo que no está funcionando tan bien\n"
      ]
    }
  ],
  "metadata": {
    "colab": {
      "provenance": []
    },
    "kernelspec": {
      "display_name": "Python 3.9.9 64-bit",
      "language": "python",
      "name": "python3"
    },
    "language_info": {
      "codemirror_mode": {
        "name": "ipython",
        "version": 3
      },
      "file_extension": ".py",
      "mimetype": "text/x-python",
      "name": "python",
      "nbconvert_exporter": "python",
      "pygments_lexer": "ipython3",
      "version": "3.9.9"
    },
    "vscode": {
      "interpreter": {
        "hash": "b0fa6594d8f4cbf19f97940f81e996739fb7646882a419484c72d19e05852a7e"
      }
    }
  },
  "nbformat": 4,
  "nbformat_minor": 0
}
